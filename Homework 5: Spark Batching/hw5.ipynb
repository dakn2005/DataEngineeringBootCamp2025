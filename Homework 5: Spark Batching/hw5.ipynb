{
 "cells": [
  {
   "cell_type": "markdown",
   "id": "fc5e0b93-c589-4013-b301-7977b1162b30",
   "metadata": {},
   "source": [
    "## Module 5: Batch Processing"
   ]
  },
  {
   "cell_type": "markdown",
   "id": "27310b5d-0ff8-44c0-b164-0aad341f1b4c",
   "metadata": {},
   "source": [
    "#### Download Data"
   ]
  },
  {
   "cell_type": "code",
   "execution_count": 1,
   "id": "98e3b62f-4253-4f9d-ba18-19190457190f",
   "metadata": {},
   "outputs": [],
   "source": [
    "#!wget https://d37ci6vzurychx.cloudfront.net/trip-data/yellow_tripdata_2024-10.parquet"
   ]
  },
  {
   "cell_type": "code",
   "execution_count": 2,
   "id": "acaaadbb-63c5-4bcf-948f-c2ac400d926c",
   "metadata": {},
   "outputs": [
    {
     "name": "stderr",
     "output_type": "stream",
     "text": [
      "Setting default log level to \"WARN\".\n",
      "To adjust logging level use sc.setLogLevel(newLevel). For SparkR, use setLogLevel(newLevel).\n",
      "25/03/05 19:51:46 WARN NativeCodeLoader: Unable to load native-hadoop library for your platform... using builtin-java classes where applicable\n"
     ]
    }
   ],
   "source": [
    "import pyspark\n",
    "from pyspark.sql import SparkSession\n",
    "\n",
    "spark = SparkSession.builder \\\n",
    "    .master(\"local[*]\") \\\n",
    "    .appName('lesson1') \\\n",
    "    .getOrCreate()"
   ]
  },
  {
   "cell_type": "markdown",
   "id": "f06355e7-ad9f-4854-83cd-f3552e84cded",
   "metadata": {},
   "source": [
    "#### Question 1: Install Spark and PySpark\n"
   ]
  },
  {
   "cell_type": "code",
   "execution_count": 3,
   "id": "cfbe6288-6a0e-49c4-9689-a1d037c88c31",
   "metadata": {},
   "outputs": [
    {
     "data": {
      "text/plain": [
       "'3.5.5'"
      ]
     },
     "execution_count": 3,
     "metadata": {},
     "output_type": "execute_result"
    }
   ],
   "source": [
    "spark.version"
   ]
  },
  {
   "cell_type": "code",
   "execution_count": 4,
   "id": "6f546f17-2b11-4bfe-b734-fe1d471707b5",
   "metadata": {},
   "outputs": [
    {
     "name": "stderr",
     "output_type": "stream",
     "text": [
      "                                                                                "
     ]
    }
   ],
   "source": [
    "df = spark.read.option(\"header\", \"true\").parquet(\"yellow_tripdata_2024-10.parquet\")"
   ]
  },
  {
   "cell_type": "code",
   "execution_count": 5,
   "id": "d5e85794-c4ec-4884-937e-96dcae9aa586",
   "metadata": {},
   "outputs": [
    {
     "name": "stdout",
     "output_type": "stream",
     "text": [
      "3833771\n",
      "root\n",
      " |-- VendorID: integer (nullable = true)\n",
      " |-- tpep_pickup_datetime: timestamp_ntz (nullable = true)\n",
      " |-- tpep_dropoff_datetime: timestamp_ntz (nullable = true)\n",
      " |-- passenger_count: long (nullable = true)\n",
      " |-- trip_distance: double (nullable = true)\n",
      " |-- RatecodeID: long (nullable = true)\n",
      " |-- store_and_fwd_flag: string (nullable = true)\n",
      " |-- PULocationID: integer (nullable = true)\n",
      " |-- DOLocationID: integer (nullable = true)\n",
      " |-- payment_type: long (nullable = true)\n",
      " |-- fare_amount: double (nullable = true)\n",
      " |-- extra: double (nullable = true)\n",
      " |-- mta_tax: double (nullable = true)\n",
      " |-- tip_amount: double (nullable = true)\n",
      " |-- tolls_amount: double (nullable = true)\n",
      " |-- improvement_surcharge: double (nullable = true)\n",
      " |-- total_amount: double (nullable = true)\n",
      " |-- congestion_surcharge: double (nullable = true)\n",
      " |-- Airport_fee: double (nullable = true)\n",
      "\n"
     ]
    }
   ],
   "source": [
    "# df.schema\n",
    "print (df.count())\n",
    "df.printSchema()"
   ]
  },
  {
   "cell_type": "code",
   "execution_count": 6,
   "id": "bd8cb86c-85ca-4553-a74a-84bac6e726f8",
   "metadata": {},
   "outputs": [
    {
     "name": "stderr",
     "output_type": "stream",
     "text": [
      "                                                                                "
     ]
    }
   ],
   "source": [
    "df.repartition(4)\n",
    "df.write.parquet('yellow_tripdata/2024/10/', mode='overwrite')"
   ]
  },
  {
   "cell_type": "markdown",
   "id": "77907626-d410-4bfb-b35e-30f512c82ae3",
   "metadata": {},
   "source": [
    "#### Question 2: Yellow October 2024 \n",
    "What is the average size of the Parquet (ending with .parquet extension) Files that were created (in MB)? Select the answer which most closely matches.\n",
    "Ans: 25MB"
   ]
  },
  {
   "cell_type": "markdown",
   "id": "c9c77b7d-d98c-4cdd-95aa-76418e1d552b",
   "metadata": {},
   "source": [
    "#### Question 3: Count records\n"
   ]
  },
  {
   "cell_type": "code",
   "execution_count": 7,
   "id": "4c37da86-8eed-4068-b27b-7f7d218d59f4",
   "metadata": {},
   "outputs": [
    {
     "data": {
      "text/plain": [
       "Row(VendorID=2, tpep_pickup_datetime=datetime.datetime(2024, 10, 1, 0, 30, 44), tpep_dropoff_datetime=datetime.datetime(2024, 10, 1, 0, 48, 26), passenger_count=1, trip_distance=3.0, RatecodeID=1, store_and_fwd_flag='N', PULocationID=162, DOLocationID=246, payment_type=1, fare_amount=18.4, extra=1.0, mta_tax=0.5, tip_amount=1.5, tolls_amount=0.0, improvement_surcharge=1.0, total_amount=24.9, congestion_surcharge=2.5, Airport_fee=0.0)"
      ]
     },
     "execution_count": 7,
     "metadata": {},
     "output_type": "execute_result"
    }
   ],
   "source": [
    "df.head()"
   ]
  },
  {
   "cell_type": "code",
   "execution_count": 9,
   "id": "b93f16c3-2273-40f7-b9b2-e851e836c73c",
   "metadata": {},
   "outputs": [
    {
     "name": "stderr",
     "output_type": "stream",
     "text": [
      "[Stage 9:==============>                                            (1 + 3) / 4]"
     ]
    },
    {
     "name": "stdout",
     "output_type": "stream",
     "text": [
      "128893\n"
     ]
    },
    {
     "name": "stderr",
     "output_type": "stream",
     "text": [
      "                                                                                "
     ]
    }
   ],
   "source": [
    "from pyspark.sql import functions as F\n",
    "\n",
    "cnt = df.filter(F.date_format(F.col(\"tpep_pickup_datetime\"), \"yyyy-MM-dd\") == \"2024-10-15\").count()\n",
    "\n",
    "print(cnt)"
   ]
  },
  {
   "cell_type": "markdown",
   "id": "8e41b09c-9d6a-4fef-ad9f-bc573d57e21b",
   "metadata": {},
   "source": [
    "#### Question 4: Longest trip"
   ]
  },
  {
   "cell_type": "code",
   "execution_count": 10,
   "id": "15f224e0-5ecf-4cbd-892e-8e768ce7d779",
   "metadata": {},
   "outputs": [],
   "source": [
    "df = df.withColumn('trip_time_hr', (F.unix_timestamp(F.col(\"tpep_dropoff_datetime\")) - F.unix_timestamp(F.col(\"tpep_pickup_datetime\")))/3600)"
   ]
  },
  {
   "cell_type": "code",
   "execution_count": 11,
   "id": "d53f6f4b-4acc-4fd4-94f6-0ea8a821a6e9",
   "metadata": {},
   "outputs": [
    {
     "data": {
      "text/plain": [
       "Row(VendorID=2, tpep_pickup_datetime=datetime.datetime(2024, 10, 1, 0, 30, 44), tpep_dropoff_datetime=datetime.datetime(2024, 10, 1, 0, 48, 26), passenger_count=1, trip_distance=3.0, RatecodeID=1, store_and_fwd_flag='N', PULocationID=162, DOLocationID=246, payment_type=1, fare_amount=18.4, extra=1.0, mta_tax=0.5, tip_amount=1.5, tolls_amount=0.0, improvement_surcharge=1.0, total_amount=24.9, congestion_surcharge=2.5, Airport_fee=0.0, trip_time_hr=0.295)"
      ]
     },
     "execution_count": 11,
     "metadata": {},
     "output_type": "execute_result"
    }
   ],
   "source": [
    "df.head()"
   ]
  },
  {
   "cell_type": "code",
   "execution_count": 12,
   "id": "a5d16e39-acc5-4360-aa0f-a8a2582d6ece",
   "metadata": {},
   "outputs": [],
   "source": [
    "# df_hr_max = df.filter(F.col(\"trip_time_hr\") == F.max(F.col(\"trip_time_hr\")))\n",
    "df.createOrReplaceTempView(\"taxi_data\")\n",
    "result_df = spark.sql(\"SELECT max(trip_time_hr) FROM taxi_data\")\n"
   ]
  },
  {
   "cell_type": "code",
   "execution_count": 13,
   "id": "a646a07c-f0c4-4326-940b-7bdcf75f1501",
   "metadata": {},
   "outputs": [
    {
     "name": "stdout",
     "output_type": "stream",
     "text": [
      "+------------------+\n",
      "| max(trip_time_hr)|\n",
      "+------------------+\n",
      "|162.61777777777777|\n",
      "+------------------+\n",
      "\n"
     ]
    }
   ],
   "source": [
    "result_df.show()"
   ]
  },
  {
   "cell_type": "markdown",
   "id": "e541c2ee-af2a-47fd-ac32-34e97538fa08",
   "metadata": {},
   "source": [
    "#### Question 5: User Interface\n",
    "Spark’s User Interface which shows the application's dashboard runs on which local port?\n",
    "\n",
    "_Ans: 4040_"
   ]
  },
  {
   "cell_type": "markdown",
   "id": "92f5b161-1f65-4a00-a209-027231301b0c",
   "metadata": {},
   "source": [
    "#### Question 6: Least frequent pickup location zone\n"
   ]
  },
  {
   "cell_type": "code",
   "execution_count": 14,
   "id": "c9e6d4af-5dbe-4abb-b066-b7f44e4c10dc",
   "metadata": {},
   "outputs": [],
   "source": [
    "#!wget https://d37ci6vzurychx.cloudfront.net/misc/taxi_zone_lookup.csv"
   ]
  },
  {
   "cell_type": "code",
   "execution_count": 15,
   "id": "8ff5750d-5f0d-4aff-b055-291cf11ba39b",
   "metadata": {},
   "outputs": [],
   "source": [
    "df_zones = spark.read.option(\"header\", \"true\").csv(\"taxi_zone_lookup.csv\")"
   ]
  },
  {
   "cell_type": "code",
   "execution_count": 16,
   "id": "d1273f1b-2dca-4f37-b633-5302a1bb3af6",
   "metadata": {},
   "outputs": [
    {
     "name": "stdout",
     "output_type": "stream",
     "text": [
      "+----------+-------------+--------------------+------------+\n",
      "|LocationID|      Borough|                Zone|service_zone|\n",
      "+----------+-------------+--------------------+------------+\n",
      "|         1|          EWR|      Newark Airport|         EWR|\n",
      "|         2|       Queens|         Jamaica Bay|   Boro Zone|\n",
      "|         3|        Bronx|Allerton/Pelham G...|   Boro Zone|\n",
      "|         4|    Manhattan|       Alphabet City| Yellow Zone|\n",
      "|         5|Staten Island|       Arden Heights|   Boro Zone|\n",
      "|         6|Staten Island|Arrochar/Fort Wad...|   Boro Zone|\n",
      "|         7|       Queens|             Astoria|   Boro Zone|\n",
      "|         8|       Queens|        Astoria Park|   Boro Zone|\n",
      "|         9|       Queens|          Auburndale|   Boro Zone|\n",
      "|        10|       Queens|        Baisley Park|   Boro Zone|\n",
      "|        11|     Brooklyn|          Bath Beach|   Boro Zone|\n",
      "|        12|    Manhattan|        Battery Park| Yellow Zone|\n",
      "|        13|    Manhattan|   Battery Park City| Yellow Zone|\n",
      "|        14|     Brooklyn|           Bay Ridge|   Boro Zone|\n",
      "|        15|       Queens|Bay Terrace/Fort ...|   Boro Zone|\n",
      "|        16|       Queens|             Bayside|   Boro Zone|\n",
      "|        17|     Brooklyn|             Bedford|   Boro Zone|\n",
      "|        18|        Bronx|        Bedford Park|   Boro Zone|\n",
      "|        19|       Queens|           Bellerose|   Boro Zone|\n",
      "|        20|        Bronx|             Belmont|   Boro Zone|\n",
      "+----------+-------------+--------------------+------------+\n",
      "only showing top 20 rows\n",
      "\n"
     ]
    }
   ],
   "source": [
    "df_zones.show()"
   ]
  },
  {
   "cell_type": "code",
   "execution_count": 26,
   "id": "1b2f5409-65d6-441e-9f8e-efcfe8dcdf65",
   "metadata": {},
   "outputs": [],
   "source": [
    "df_joined = df.join(df_zones, df_zones.LocationID == df.PULocationID, how='outer')\n",
    "df_joined.createOrReplaceTempView(\"taxi_data_joined\")\n"
   ]
  },
  {
   "cell_type": "code",
   "execution_count": 29,
   "id": "66d0f308-426f-4f52-ba54-8150f421811b",
   "metadata": {
    "scrolled": true
   },
   "outputs": [
    {
     "name": "stderr",
     "output_type": "stream",
     "text": [
      "                                                                                "
     ]
    },
    {
     "data": {
      "text/plain": [
       "Row(VendorID=2, tpep_pickup_datetime=datetime.datetime(2024, 10, 1, 11, 30, 21), tpep_dropoff_datetime=datetime.datetime(2024, 10, 1, 11, 30, 25), passenger_count=2, trip_distance=0.0, RatecodeID=5, store_and_fwd_flag='N', PULocationID=1, DOLocationID=1, payment_type=1, fare_amount=115.0, extra=0.0, mta_tax=0.0, tip_amount=23.2, tolls_amount=0.0, improvement_surcharge=1.0, total_amount=139.2, congestion_surcharge=0.0, Airport_fee=0.0, trip_time_hr=0.0011111111111111111, LocationID='1', Borough='EWR', Zone='Newark Airport', service_zone='EWR')"
      ]
     },
     "execution_count": 29,
     "metadata": {},
     "output_type": "execute_result"
    }
   ],
   "source": [
    "df_joined.head()"
   ]
  },
  {
   "cell_type": "code",
   "execution_count": 23,
   "id": "e067e8c9-3274-424b-9dd6-406048d7d6d1",
   "metadata": {},
   "outputs": [
    {
     "name": "stderr",
     "output_type": "stream",
     "text": [
      "[Stage 38:>                                                         (0 + 1) / 1]"
     ]
    },
    {
     "name": "stdout",
     "output_type": "stream",
     "text": [
      "+--------+\n",
      "|count(1)|\n",
      "+--------+\n",
      "| 3833775|\n",
      "+--------+\n",
      "\n"
     ]
    },
    {
     "name": "stderr",
     "output_type": "stream",
     "text": [
      "                                                                                "
     ]
    }
   ],
   "source": [
    "count_df = spark.sql(\"SELECT count(1) FROM taxi_data_joined\")\n",
    "count_df.show()"
   ]
  },
  {
   "cell_type": "code",
   "execution_count": 35,
   "id": "a1ccd157-c183-4dc5-b59f-526fab39c23d",
   "metadata": {},
   "outputs": [],
   "source": [
    "least_freq_df = spark.sql(\"\"\"\n",
    "    SELECT \n",
    "        Zone, \n",
    "        count(1) cnt\n",
    "    FROM taxi_data_joined \n",
    "    group by Zone\n",
    "    order by cnt asc\n",
    "\"\"\")\n",
    "\n"
   ]
  },
  {
   "cell_type": "code",
   "execution_count": 37,
   "id": "ae9bc222-e996-4296-9060-3056febc0631",
   "metadata": {},
   "outputs": [
    {
     "name": "stderr",
     "output_type": "stream",
     "text": [
      "[Stage 93:>                                                         (0 + 1) / 1]"
     ]
    },
    {
     "name": "stdout",
     "output_type": "stream",
     "text": [
      "+---------------------------------------------+---+\n",
      "|Zone                                         |cnt|\n",
      "+---------------------------------------------+---+\n",
      "|Freshkills Park                              |1  |\n",
      "|Great Kills Park                             |1  |\n",
      "|Rikers Island                                |2  |\n",
      "|Arden Heights                                |2  |\n",
      "|Governor's Island/Ellis Island/Liberty Island|3  |\n",
      "|Jamaica Bay                                  |3  |\n",
      "|Green-Wood Cemetery                          |3  |\n",
      "|Eltingville/Annadale/Prince's Bay            |4  |\n",
      "|Rossville/Woodrow                            |4  |\n",
      "|West Brighton                                |4  |\n",
      "|Port Richmond                                |4  |\n",
      "|Charleston/Tottenville                       |4  |\n",
      "|Great Kills                                  |6  |\n",
      "|Crotona Park                                 |6  |\n",
      "|Mariners Harbor                              |7  |\n",
      "|Heartland Village/Todt Hill                  |7  |\n",
      "|Saint George/New Brighton                    |9  |\n",
      "|Oakwood                                      |9  |\n",
      "|Broad Channel                                |10 |\n",
      "|New Dorp/Midland Beach                       |10 |\n",
      "+---------------------------------------------+---+\n",
      "only showing top 20 rows\n",
      "\n"
     ]
    },
    {
     "name": "stderr",
     "output_type": "stream",
     "text": [
      "                                                                                "
     ]
    }
   ],
   "source": [
    "least_freq_df.show(truncate=False)"
   ]
  },
  {
   "cell_type": "code",
   "execution_count": null,
   "id": "7667b3c7-3b06-4c21-b5fd-b70b0c5fafff",
   "metadata": {},
   "outputs": [],
   "source": []
  }
 ],
 "metadata": {
  "kernelspec": {
   "display_name": "Python 3 (ipykernel)",
   "language": "python",
   "name": "python3"
  },
  "language_info": {
   "codemirror_mode": {
    "name": "ipython",
    "version": 3
   },
   "file_extension": ".py",
   "mimetype": "text/x-python",
   "name": "python",
   "nbconvert_exporter": "python",
   "pygments_lexer": "ipython3",
   "version": "3.12.9"
  }
 },
 "nbformat": 4,
 "nbformat_minor": 5
}
